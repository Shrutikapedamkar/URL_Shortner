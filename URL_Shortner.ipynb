{
  "nbformat": 4,
  "nbformat_minor": 0,
  "metadata": {
    "colab": {
      "provenance": []
    },
    "kernelspec": {
      "name": "python3",
      "display_name": "Python 3"
    },
    "language_info": {
      "name": "python"
    }
  },
  "cells": [
    {
      "cell_type": "markdown",
      "source": [
        "# **URL Shortner**"
      ],
      "metadata": {
        "id": "X5AGC1axiGd1"
      }
    },
    {
      "cell_type": "markdown",
      "source": [
        "Long URLs are challenging to navigate and share. The amount of trackers in a link, loaded up material (many directories of heavy sites), etc. are the causes of the lengthy URLs. We all use URL shorteners for this reason to reduce lengthy URLs to a manageable number of characters that are also more aesthetically pleasing and easier to distribute."
      ],
      "metadata": {
        "id": "N8whX5GziOvE"
      }
    },
    {
      "cell_type": "markdown",
      "source": [
        "The most popular URL shortener APIs are wrapped and consumed by the Python package Pyshorteners."
      ],
      "metadata": {
        "id": "5kipjxd6iWvp"
      }
    },
    {
      "cell_type": "code",
      "execution_count": 6,
      "metadata": {
        "colab": {
          "base_uri": "https://localhost:8080/"
        },
        "id": "kwTt7mpEegnc",
        "outputId": "f11fb819-1475-498b-b32f-b721b7438ea2"
      },
      "outputs": [
        {
          "output_type": "stream",
          "name": "stdout",
          "text": [
            "Requirement already satisfied: pyshorteners in /usr/local/lib/python3.10/dist-packages (1.0.1)\n",
            "Requirement already satisfied: requests in /usr/local/lib/python3.10/dist-packages (from pyshorteners) (2.27.1)\n",
            "Requirement already satisfied: urllib3<1.27,>=1.21.1 in /usr/local/lib/python3.10/dist-packages (from requests->pyshorteners) (1.26.16)\n",
            "Requirement already satisfied: certifi>=2017.4.17 in /usr/local/lib/python3.10/dist-packages (from requests->pyshorteners) (2023.5.7)\n",
            "Requirement already satisfied: charset-normalizer~=2.0.0 in /usr/local/lib/python3.10/dist-packages (from requests->pyshorteners) (2.0.12)\n",
            "Requirement already satisfied: idna<4,>=2.5 in /usr/local/lib/python3.10/dist-packages (from requests->pyshorteners) (3.4)\n"
          ]
        }
      ],
      "source": [
        "pip install pyshorteners"
      ]
    },
    {
      "cell_type": "markdown",
      "source": [
        "Pyshorteners is Python library to wrap and consume the most used URL shorteners APIs."
      ],
      "metadata": {
        "id": "-Qtt0E6lgliX"
      }
    },
    {
      "cell_type": "code",
      "source": [
        "import pyshorteners"
      ],
      "metadata": {
        "id": "N7pGbGURfeOZ"
      },
      "execution_count": 7,
      "outputs": []
    },
    {
      "cell_type": "code",
      "source": [
        "long_URL = input(\"Enter the long URL: \")"
      ],
      "metadata": {
        "colab": {
          "base_uri": "https://localhost:8080/"
        },
        "id": "CDCoJH6Yfmdm",
        "outputId": "cfc80f35-fce6-42a2-e07f-33d5f52999e1"
      },
      "execution_count": 11,
      "outputs": [
        {
          "name": "stdout",
          "output_type": "stream",
          "text": [
            "Enter the long URL: https://www.linkedin.com/jobs/view/3623657332/?trackingId=&refId=&midToken=AQFq8r1WHg3a5g&midSig=26OEUT1eSKxWQ1&trk=eml-email_jobs_job_application_viewed_01-applied_jobs-0-applied_job&trkEmail=eml-email_jobs_job_application_viewed_01-applied_jobs-0-applied_job-null-bafv6f~ljwnhoiu~ml-null-null&eid=bafv6f-ljwnhoiu-ml\n"
          ]
        }
      ]
    },
    {
      "cell_type": "markdown",
      "source": [
        "Now that we have initialised the class object of the pyshortener library, we can begin shortening our URLs.\n",
        "\n"
      ],
      "metadata": {
        "id": "86iOpCqoiu_z"
      }
    },
    {
      "cell_type": "code",
      "source": [
        "shorten = pyshorteners.Shortener()\n"
      ],
      "metadata": {
        "id": "K7-fvdnkfoaQ"
      },
      "execution_count": 12,
      "outputs": []
    },
    {
      "cell_type": "code",
      "source": [
        "short_URL = shorten.tinyurl.short(long_URL)\n",
        "\n",
        "print(\"The Shortened URL is: \" + short_URL)"
      ],
      "metadata": {
        "colab": {
          "base_uri": "https://localhost:8080/"
        },
        "id": "Bf6XVW9Df2M4",
        "outputId": "ee27919e-4f3e-4a64-e6a3-a36563860a7e"
      },
      "execution_count": 13,
      "outputs": [
        {
          "output_type": "stream",
          "name": "stdout",
          "text": [
            "The Shortened URL is: https://tinyurl.com/2936hg9e\n"
          ]
        }
      ]
    }
  ]
}